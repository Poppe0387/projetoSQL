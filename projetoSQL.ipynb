{
 "cells": [
  {
   "cell_type": "markdown",
   "id": "0430fe06",
   "metadata": {
    "papermill": {
     "duration": 0.006075,
     "end_time": "2023-10-05T22:21:26.191889",
     "exception": false,
     "start_time": "2023-10-05T22:21:26.185814",
     "status": "completed"
    },
    "tags": []
   },
   "source": [
    "#  ** ANÁLISE DE DADOS DE CRÉDITO EM SQL **\n",
    "\n",
    "## *Objeto em análise:*\n",
    "\n",
    " >   Dados disponibilizados no Github: http://github.com/andre-marcos-perez/ebac-course-utils/tree/main/dataset\n",
    "    \n",
    "## *Objetivos:*\n",
    "\n",
    " > A partir dos dados de crédito de determinada instituição financeira, esse projeto busca responder alguns questinamentos:\n",
    " \n",
    "1. Qual o sexo da maior parte dos clientes e sua renda?\n",
    "2. A escolaridade influencia no tipo de cartão?\n",
    "3. Qual o sexo que possui maior e menor limite? \n",
    "4. Existe diferença salarial entre homens e mulheres?\n",
    "5. A faixa salarial impacta no limite de crédito?\n",
    "6. Quanto à quantidade de produtos adquiridos pelos clientes, existe alguma relação com o sexo ou com o número de interações com a instituição?\n",
    "\n",
    "## *Método utilizado:*\n",
    "\n",
    "   A tabela foi criada no **AWS Athena** junto com o **S3 Bucket**.\n",
    "    \n",
    "## *Dados:*\n",
    "\n",
    "  Os dados representam informações de clientes de um banco e possuem as seguintes colunas:\n",
    "\n",
    "* idade = idade do cliente\n",
    "* sexo = sexo do cliente (F ou M)\n",
    "* dependentes = número de dependentes do cliente\n",
    "* escolaridade = nível de escolaridade do clientes\n",
    "* salario_anual = faixa salarial do cliente\n",
    "* tipo_cartao = tipo de cartao do cliente\n",
    "* qtd_produtos = quantidade de produtos comprados nos últimos 12 meses\n",
    "* iteracoes_12m = quantidade de iterações/transacoes nos ultimos 12 meses\n",
    "* meses_inativo_12m = quantidade de meses que o cliente ficou inativo\n",
    "* limite_credito = limite de credito do cliente\n",
    "* valor_transacoes_12m = valor das transações dos ultimos 12 meses\n",
    "* qtd_transacoes_12m = quantidade de transacoes dos ultimos 12 meses"
   ]
  },
  {
   "cell_type": "markdown",
   "id": "2566b7f6",
   "metadata": {
    "papermill": {
     "duration": 0.005092,
     "end_time": "2023-10-05T22:21:26.202540",
     "exception": false,
     "start_time": "2023-10-05T22:21:26.197448",
     "status": "completed"
    },
    "tags": []
   },
   "source": [
    "## **Exploração de dados:**\n",
    "\n",
    "Inicialmente será feita a exploração de dados para obter todas as informações necessárias para a análise. Tal será realizada mediante simples questionamentos e as querys utilizadas no AWS:"
   ]
  },
  {
   "cell_type": "markdown",
   "id": "59009bff",
   "metadata": {
    "papermill": {
     "duration": 0.004987,
     "end_time": "2023-10-05T22:21:26.212974",
     "exception": false,
     "start_time": "2023-10-05T22:21:26.207987",
     "status": "completed"
    },
    "tags": []
   },
   "source": [
    "**Qual a quantidade de informações nesta base de dados?**\n",
    "\n",
    "Query: SELECT count(*) FROM credito\n",
    "\n",
    "> Resposta: 2564 linhas"
   ]
  },
  {
   "cell_type": "markdown",
   "id": "6adff1ab",
   "metadata": {
    "papermill": {
     "duration": 0.005101,
     "end_time": "2023-10-05T22:21:26.223426",
     "exception": false,
     "start_time": "2023-10-05T22:21:26.218325",
     "status": "completed"
    },
    "tags": []
   },
   "source": [
    "**Como são os dados? (Uma visão superficial das 10 primeiras linhas do dataset)**\n",
    "\n",
    "Query: SELECT * FROM credito LIMIT 10;"
   ]
  },
  {
   "cell_type": "markdown",
   "id": "41165c99",
   "metadata": {
    "papermill": {
     "duration": 0.005052,
     "end_time": "2023-10-05T22:21:26.233868",
     "exception": false,
     "start_time": "2023-10-05T22:21:26.228816",
     "status": "completed"
    },
    "tags": []
   },
   "source": [
    "![Query: SELECT * FROM credito LIMIT 10;](https://github.com/marianeneiva/sqlEBAC/blob/main/limit10.png?raw=true)"
   ]
  },
  {
   "cell_type": "markdown",
   "id": "b38281b0",
   "metadata": {
    "papermill": {
     "duration": 0.005192,
     "end_time": "2023-10-05T22:21:26.244594",
     "exception": false,
     "start_time": "2023-10-05T22:21:26.239402",
     "status": "completed"
    },
    "tags": []
   },
   "source": [
    "*Obs: Valores nulos serão tratados posteriormente.*"
   ]
  },
  {
   "cell_type": "markdown",
   "id": "923b9924",
   "metadata": {
    "papermill": {
     "duration": 0.006003,
     "end_time": "2023-10-05T22:21:26.256192",
     "exception": false,
     "start_time": "2023-10-05T22:21:26.250189",
     "status": "completed"
    },
    "tags": []
   },
   "source": [
    "**Quais os tipos de cada dado?**\n",
    "\n",
    "Query: DESCRIBE credito"
   ]
  },
  {
   "cell_type": "markdown",
   "id": "6ea907af",
   "metadata": {
    "papermill": {
     "duration": 0.00514,
     "end_time": "2023-10-05T22:21:26.267194",
     "exception": false,
     "start_time": "2023-10-05T22:21:26.262054",
     "status": "completed"
    },
    "tags": []
   },
   "source": [
    "![](https://github.com/marianeneiva/sqlEBAC/blob/main/describe.png?raw=true)"
   ]
  },
  {
   "cell_type": "markdown",
   "id": "2bb6af66",
   "metadata": {
    "papermill": {
     "duration": 0.005239,
     "end_time": "2023-10-05T22:21:26.278065",
     "exception": false,
     "start_time": "2023-10-05T22:21:26.272826",
     "status": "completed"
    },
    "tags": []
   },
   "source": [
    "**Quais são os tipos de escolaridade?**\n",
    "\n",
    "Query: SELECT DISTINCT escolaridade FROM credito"
   ]
  },
  {
   "cell_type": "markdown",
   "id": "ecdd4ed8",
   "metadata": {
    "papermill": {
     "duration": 0.005188,
     "end_time": "2023-10-05T22:21:26.289503",
     "exception": false,
     "start_time": "2023-10-05T22:21:26.284315",
     "status": "completed"
    },
    "tags": []
   },
   "source": [
    "![](https://github.com/marianeneiva/sqlEBAC/blob/main/escolaridade.png?raw=true)"
   ]
  },
  {
   "cell_type": "markdown",
   "id": "ece0a3fe",
   "metadata": {
    "papermill": {
     "duration": 0.004752,
     "end_time": "2023-10-05T22:21:26.300116",
     "exception": false,
     "start_time": "2023-10-05T22:21:26.295364",
     "status": "completed"
    },
    "tags": []
   },
   "source": [
    "**Quais são os tipos de estado civil?**\n",
    "\n",
    "Query: SELECT DISTINCT estado_civil FROM credito"
   ]
  },
  {
   "cell_type": "markdown",
   "id": "b2d7106e",
   "metadata": {
    "papermill": {
     "duration": 0.004585,
     "end_time": "2023-10-05T22:21:26.309848",
     "exception": false,
     "start_time": "2023-10-05T22:21:26.305263",
     "status": "completed"
    },
    "tags": []
   },
   "source": [
    "![](https://github.com/marianeneiva/sqlEBAC/blob/main/estado_civil.png?raw=true)"
   ]
  },
  {
   "cell_type": "markdown",
   "id": "559ed445",
   "metadata": {
    "papermill": {
     "duration": 0.004576,
     "end_time": "2023-10-05T22:21:26.319361",
     "exception": false,
     "start_time": "2023-10-05T22:21:26.314785",
     "status": "completed"
    },
    "tags": []
   },
   "source": [
    "**O salário anual está representado em faixas salariais, quais são essas faixas?**\n",
    "\n",
    "Query: SELECT DISTINCT salario_anual FROM credito"
   ]
  },
  {
   "cell_type": "markdown",
   "id": "a98a1c4a",
   "metadata": {
    "papermill": {
     "duration": 0.004557,
     "end_time": "2023-10-05T22:21:26.328796",
     "exception": false,
     "start_time": "2023-10-05T22:21:26.324239",
     "status": "completed"
    },
    "tags": []
   },
   "source": [
    "![](https://github.com/marianeneiva/sqlEBAC/blob/main/salario_anual.png?raw=true)"
   ]
  },
  {
   "cell_type": "markdown",
   "id": "9c9fef31",
   "metadata": {
    "papermill": {
     "duration": 0.004598,
     "end_time": "2023-10-05T22:21:26.338360",
     "exception": false,
     "start_time": "2023-10-05T22:21:26.333762",
     "status": "completed"
    },
    "tags": []
   },
   "source": [
    "**Quais são os tipos de cartão oferecidos pela instituição?**\n",
    "\n",
    "Query: SELECT DISTINCT tipo_cartao FROM credito"
   ]
  },
  {
   "cell_type": "markdown",
   "id": "71508758",
   "metadata": {
    "papermill": {
     "duration": 0.004565,
     "end_time": "2023-10-05T22:21:26.347888",
     "exception": false,
     "start_time": "2023-10-05T22:21:26.343323",
     "status": "completed"
    },
    "tags": []
   },
   "source": [
    "![](https://github.com/marianeneiva/sqlEBAC/blob/main/cartao.png?raw=true)"
   ]
  },
  {
   "cell_type": "markdown",
   "id": "c6e1cd71",
   "metadata": {
    "papermill": {
     "duration": 0.004856,
     "end_time": "2023-10-05T22:21:26.357527",
     "exception": false,
     "start_time": "2023-10-05T22:21:26.352671",
     "status": "completed"
    },
    "tags": []
   },
   "source": [
    "## **Análise de dados**\n",
    "\n",
    "Com a exploração dos principais dados do dataset com foco nos objetivos feita, partiremos para as análises.\n",
    "\n",
    "\n",
    "**Qual a quantidade de clientes para cada faixa salarial?**\n",
    "\n",
    "Query: select count(*), salario_anual from credito group by salario_anual"
   ]
  },
  {
   "cell_type": "markdown",
   "id": "c9d72bf4",
   "metadata": {
    "papermill": {
     "duration": 0.004661,
     "end_time": "2023-10-05T22:21:26.367097",
     "exception": false,
     "start_time": "2023-10-05T22:21:26.362436",
     "status": "completed"
    },
    "tags": []
   },
   "source": [
    "![](https://github.com/marianeneiva/sqlEBAC/blob/main/faixa_salarial.png?raw=true)"
   ]
  },
  {
   "cell_type": "markdown",
   "id": "dc5d4757",
   "metadata": {
    "papermill": {
     "duration": 0.004544,
     "end_time": "2023-10-05T22:21:26.376613",
     "exception": false,
     "start_time": "2023-10-05T22:21:26.372069",
     "status": "completed"
    },
    "tags": []
   },
   "source": [
    "A maior parte dos clientes possue uma renda menor que 40K, enquanto a menor parte uma renda superior a 120K."
   ]
  },
  {
   "cell_type": "markdown",
   "id": "cdb88477",
   "metadata": {
    "papermill": {
     "duration": 0.004647,
     "end_time": "2023-10-05T22:21:26.386185",
     "exception": false,
     "start_time": "2023-10-05T22:21:26.381538",
     "status": "completed"
    },
    "tags": []
   },
   "source": [
    "**Quantos clientes são homens e quantos são mulheres?**\n",
    "\n",
    "Query: select count(*), sexo from credito group by sexo"
   ]
  },
  {
   "attachments": {
    "4095fae6-4f4d-4dda-a627-e5164e2b91be.png": {
     "image/png": "[encoded data removed]"
    }
   },
   "cell_type": "markdown",
   "id": "9fcb01f5",
   "metadata": {
    "papermill": {
     "duration": 0.004738,
     "end_time": "2023-10-05T22:21:26.395816",
     "exception": false,
     "start_time": "2023-10-05T22:21:26.391078",
     "status": "completed"
    },
    "tags": []
   },
   "source": [
    "![image.png](attachment:4095fae6-4f4d-4dda-a627-e5164e2b91be.png)"
   ]
  },
  {
   "attachments": {
    "97a4473f-3709-45d0-be2a-d9b0cff8e4c5.png": {
     "image/png": "[encoded data removed]"
    }
   },
   "cell_type": "markdown",
   "id": "f6a682f6",
   "metadata": {
    "papermill": {
     "duration": 0.004545,
     "end_time": "2023-10-05T22:21:26.405245",
     "exception": false,
     "start_time": "2023-10-05T22:21:26.400700",
     "status": "completed"
    },
    "tags": []
   },
   "source": [
    "![image.png](attachment:97a4473f-3709-45d0-be2a-d9b0cff8e4c5.png)"
   ]
  },
  {
   "cell_type": "markdown",
   "id": "7cad0085",
   "metadata": {
    "papermill": {
     "duration": 0.004589,
     "end_time": "2023-10-05T22:21:26.414604",
     "exception": false,
     "start_time": "2023-10-05T22:21:26.410015",
     "status": "completed"
    },
    "tags": []
   },
   "source": [
    "A insituição em questão apresenta um número maior de clientes, mas não é possível a partir apenas desse dado considerar uma diferença significativa."
   ]
  },
  {
   "cell_type": "markdown",
   "id": "487d8774",
   "metadata": {
    "papermill": {
     "duration": 0.004521,
     "end_time": "2023-10-05T22:21:26.424051",
     "exception": false,
     "start_time": "2023-10-05T22:21:26.419530",
     "status": "completed"
    },
    "tags": []
   },
   "source": [
    "**Qual a menor e maior idade de cada sexo?**\n",
    "\n",
    "Query: select avg(idade) as media_idade, min(idade) as min_idade, max(idade) as max_idade, sexo from credito group by sexo"
   ]
  },
  {
   "cell_type": "markdown",
   "id": "49312c41",
   "metadata": {
    "papermill": {
     "duration": 0.005183,
     "end_time": "2023-10-05T22:21:26.493495",
     "exception": false,
     "start_time": "2023-10-05T22:21:26.488312",
     "status": "completed"
    },
    "tags": []
   },
   "source": [
    "![](https://github.com/marianeneiva/sqlEBAC/blob/main/idade_sexopng.png?raw=true)"
   ]
  },
  {
   "cell_type": "markdown",
   "id": "07e6630d",
   "metadata": {
    "papermill": {
     "duration": 0.00499,
     "end_time": "2023-10-05T22:21:26.503917",
     "exception": false,
     "start_time": "2023-10-05T22:21:26.498927",
     "status": "completed"
    },
    "tags": []
   },
   "source": [
    "A faixa etária dos clientes abrange mais de 40 anos de diferença entre o mais novo e mais velho, para o marketing, por exemplo, seria preciso uma variedade maior de atrativos para atingir todas as idades."
   ]
  },
  {
   "cell_type": "markdown",
   "id": "bfc6757f",
   "metadata": {
    "papermill": {
     "duration": 0.004967,
     "end_time": "2023-10-05T22:21:26.514041",
     "exception": false,
     "start_time": "2023-10-05T22:21:26.509074",
     "status": "completed"
    },
    "tags": []
   },
   "source": [
    "**Qual a maior e menor transação dos clientes?**\n",
    "\n",
    "Query: select min(valor_transacoes_12m) as transacao_minima, max(valor_transacoes_12m) as transacao_minima from credito"
   ]
  },
  {
   "cell_type": "markdown",
   "id": "87ce9095",
   "metadata": {
    "papermill": {
     "duration": 0.005271,
     "end_time": "2023-10-05T22:21:26.524841",
     "exception": false,
     "start_time": "2023-10-05T22:21:26.519570",
     "status": "completed"
    },
    "tags": []
   },
   "source": [
    "![](https://github.com/marianeneiva/sqlEBAC/blob/main/transacoes.png?raw=true)"
   ]
  },
  {
   "cell_type": "markdown",
   "id": "5e358c3f",
   "metadata": {
    "papermill": {
     "duration": 0.005163,
     "end_time": "2023-10-05T22:21:26.535462",
     "exception": false,
     "start_time": "2023-10-05T22:21:26.530299",
     "status": "completed"
    },
    "tags": []
   },
   "source": [
    "Aparentemente não existe um padrão do número de transações. "
   ]
  },
  {
   "cell_type": "markdown",
   "id": "0fd67e5c",
   "metadata": {
    "papermill": {
     "duration": 0.005184,
     "end_time": "2023-10-05T22:21:26.545965",
     "exception": false,
     "start_time": "2023-10-05T22:21:26.540781",
     "status": "completed"
    },
    "tags": []
   },
   "source": [
    "**Quais as características dos clientes que possuem os maiores créditos?**\n",
    "\n",
    "Query: select max(limite_credito) as limite_credito, escolaridade, tipo_cartao, sexo from credito where escolaridade != 'na' and tipo_cartao != 'na' group by escolaridade, tipo_cartao, sexo order by limite_credito desc limit 10"
   ]
  },
  {
   "cell_type": "markdown",
   "id": "9da8c0b7",
   "metadata": {
    "papermill": {
     "duration": 0.005616,
     "end_time": "2023-10-05T22:21:26.556951",
     "exception": false,
     "start_time": "2023-10-05T22:21:26.551335",
     "status": "completed"
    },
    "tags": []
   },
   "source": [
    "![](https://github.com/marianeneiva/sqlEBAC/blob/main/limite_desc.png?raw=true)"
   ]
  },
  {
   "cell_type": "markdown",
   "id": "d4d1ba22",
   "metadata": {
    "papermill": {
     "duration": 0.00593,
     "end_time": "2023-10-05T22:21:26.569731",
     "exception": false,
     "start_time": "2023-10-05T22:21:26.563801",
     "status": "completed"
    },
    "tags": []
   },
   "source": [
    "**Quais as características dos clientes que possuem os menores créditos?**\n",
    "\n",
    "Query: select max(limite_credito) as limite_credito, escolaridade, tipo_cartao, sexo from credito where escolaridade != 'na' and tipo_cartao != 'na' group by escolaridade, tipo_cartao, sexo order by limite_credito asc\n"
   ]
  },
  {
   "cell_type": "markdown",
   "id": "5049dc6a",
   "metadata": {
    "papermill": {
     "duration": 0.005205,
     "end_time": "2023-10-05T22:21:26.580656",
     "exception": false,
     "start_time": "2023-10-05T22:21:26.575451",
     "status": "completed"
    },
    "tags": []
   },
   "source": [
    "![](https://github.com/marianeneiva/sqlEBAC/blob/main/limite_asc.png?raw=true)"
   ]
  },
  {
   "cell_type": "markdown",
   "id": "484d5487",
   "metadata": {
    "papermill": {
     "duration": 0.005111,
     "end_time": "2023-10-05T22:21:26.590959",
     "exception": false,
     "start_time": "2023-10-05T22:21:26.585848",
     "status": "completed"
    },
    "tags": []
   },
   "source": [
    "Quanto ao limite de crédito, não existe uma relação direta entre escolaridade, o tipo de cartão e o sexo do cliente."
   ]
  },
  {
   "cell_type": "markdown",
   "id": "2c4e6b37",
   "metadata": {
    "papermill": {
     "duration": 0.00499,
     "end_time": "2023-10-05T22:21:26.601207",
     "exception": false,
     "start_time": "2023-10-05T22:21:26.596217",
     "status": "completed"
    },
    "tags": []
   },
   "source": [
    "**Qual a faixa salarial dos homens e mulheres?**\n",
    "\n",
    "Query: Select sexo, salario_anual from credito where salario_anual != 'na' group by sexo, salario_anual "
   ]
  },
  {
   "attachments": {
    "c1c19eaa-3e96-4d73-af9f-8cc8e1526750.png": {
     "image/png": "[encoded data removed]"
    }
   },
   "cell_type": "markdown",
   "id": "a223cbf0",
   "metadata": {
    "papermill": {
     "duration": 0.005041,
     "end_time": "2023-10-05T22:21:26.611654",
     "exception": false,
     "start_time": "2023-10-05T22:21:26.606613",
     "status": "completed"
    },
    "tags": []
   },
   "source": [
    "![Captura de Tela (4).png](attachment:c1c19eaa-3e96-4d73-af9f-8cc8e1526750.png)"
   ]
  },
  {
   "cell_type": "markdown",
   "id": "0827fdee",
   "metadata": {
    "papermill": {
     "duration": 0.006254,
     "end_time": "2023-10-05T22:21:26.623097",
     "exception": false,
     "start_time": "2023-10-05T22:21:26.616843",
     "status": "completed"
    },
    "tags": []
   },
   "source": [
    "Pode-se observar que o salário anual das mulheres não ultrapassa 60K. O que valeria uma estudo mais profundo se consiste em um problema cultural ou não."
   ]
  },
  {
   "cell_type": "markdown",
   "id": "885df32f",
   "metadata": {
    "papermill": {
     "duration": 0.004885,
     "end_time": "2023-10-05T22:21:26.633320",
     "exception": false,
     "start_time": "2023-10-05T22:21:26.628435",
     "status": "completed"
    },
    "tags": []
   },
   "source": [
    "**O salário impacta no limite de crédito?**\n",
    "\n",
    "Query: select avg(qtd_produtos) as qts_produtos, avg(valor_transacoes_12m) as media_valor_transacoes, avg(limite_credito) as media_limite, sexo, salario_anual from credito where salario_anual != 'na' group by sexo, salario_anual order by avg(valor_transacoes_12m) desc"
   ]
  },
  {
   "cell_type": "markdown",
   "id": "de694d09",
   "metadata": {
    "papermill": {
     "duration": 0.005333,
     "end_time": "2023-10-05T22:21:26.643647",
     "exception": false,
     "start_time": "2023-10-05T22:21:26.638314",
     "status": "completed"
    },
    "tags": []
   },
   "source": [
    "![](https://github.com/marianeneiva/sqlEBAC/blob/main/salarioAnualMediaLimite.png?raw=true)"
   ]
  },
  {
   "cell_type": "markdown",
   "id": "50d6e4fe",
   "metadata": {
    "papermill": {
     "duration": 0.004899,
     "end_time": "2023-10-05T22:21:26.653644",
     "exception": false,
     "start_time": "2023-10-05T22:21:26.648745",
     "status": "completed"
    },
    "tags": []
   },
   "source": [
    "Diferentemente da observação anterior, o salário impacta no limite de crédito. Quanto menor o salário anual, menor o limite e vice versa."
   ]
  },
  {
   "cell_type": "markdown",
   "id": "bac23642",
   "metadata": {
    "papermill": {
     "duration": 0.005118,
     "end_time": "2023-10-05T22:21:26.663799",
     "exception": false,
     "start_time": "2023-10-05T22:21:26.658681",
     "status": "completed"
    },
    "tags": []
   },
   "source": [
    "**Tem alguma relação entre o número de interações com os bancos com os produtos adquiridos? Depende do quanto o banco tem proximidade com o cliente?**\n",
    "\n",
    "Query: Select count(*) qtd_produtos, iteracoes_12m from credito group by iteracoes_12m order by qtd_produtos desc"
   ]
  },
  {
   "attachments": {
    "99576e22-d05c-4c8f-8f35-017432c631a2.png": {
     "image/png": "[encoded data removed]"
    }
   },
   "cell_type": "markdown",
   "id": "dc356110",
   "metadata": {
    "papermill": {
     "duration": 0.005327,
     "end_time": "2023-10-05T22:21:26.674898",
     "exception": false,
     "start_time": "2023-10-05T22:21:26.669571",
     "status": "completed"
    },
    "tags": []
   },
   "source": [
    "![SQL.png](attachment:99576e22-d05c-4c8f-8f35-017432c631a2.png)"
   ]
  },
  {
   "cell_type": "markdown",
   "id": "c16f6d1c",
   "metadata": {
    "papermill": {
     "duration": 0.005297,
     "end_time": "2023-10-05T22:21:26.685364",
     "exception": false,
     "start_time": "2023-10-05T22:21:26.680067",
     "status": "completed"
    },
    "tags": []
   },
   "source": [
    "**Qual o sexo mais propenso a adquirir produtos?**\n",
    "\n",
    "Query: Select count(*) qtd_produtos, sexo from credito group by sexo order by qtd_produtos asc"
   ]
  },
  {
   "attachments": {
    "50753412-c3c8-4ce7-9fab-6e7278e1add9.png": {
     "image/png": "[encoded data removed]"
    }
   },
   "cell_type": "markdown",
   "id": "8c757211",
   "metadata": {
    "papermill": {
     "duration": 0.005574,
     "end_time": "2023-10-05T22:21:26.696248",
     "exception": false,
     "start_time": "2023-10-05T22:21:26.690674",
     "status": "completed"
    },
    "tags": []
   },
   "source": [
    "![Captura de Tela (3).png](attachment:50753412-c3c8-4ce7-9fab-6e7278e1add9.png)"
   ]
  },
  {
   "cell_type": "markdown",
   "id": "c8994448",
   "metadata": {
    "papermill": {
     "duration": 0.005233,
     "end_time": "2023-10-05T22:21:26.706987",
     "exception": false,
     "start_time": "2023-10-05T22:21:26.701754",
     "status": "completed"
    },
    "tags": []
   },
   "source": [
    "Quanto à quantidade de produtos, não podemos concluir que existe alguma relação com as interações com o banco, ou seja, não necessariamente seja as ligações ou envio de sms/email com ofertas que incentivem o cliente a adquirir um novo produto.Mas pode-se concluir que os homens possuem mais propensão à adquirí-los."
   ]
  },
  {
   "cell_type": "markdown",
   "id": "3c8fb35a",
   "metadata": {
    "papermill": {
     "duration": 0.005236,
     "end_time": "2023-10-05T22:21:26.717800",
     "exception": false,
     "start_time": "2023-10-05T22:21:26.712564",
     "status": "completed"
    },
    "tags": []
   },
   "source": [
    "# Conclusão\n",
    "\n",
    "A partir destas análises chegamos à alguns insights: \n",
    "\n",
    "*  a maior parte dos clientes possui renda até 40K e são do sexo masculino\n",
    "*  a escolaridade não parece influenciar no limite, no tipo do cartão, nem na quantidade de dependentes\n",
    "*  os clientes com maiores limites são em sua maioria homens e com menores, mulheres\n",
    "*  o salário anual das mulheres é inferior ao dos homens\n",
    "*  a faixa salarial impacta diretamente no limite de crédito\n",
    "*  a interação direta cliente-banco não influencia na obtenção de um novo produto\n",
    "*  majoritariamente, homens adquirem mais novos produtos (bancários)"
   ]
  }
 ],
 "metadata": {
  "kernelspec": {
   "display_name": "Python 3",
   "language": "python",
   "name": "python3"
  },
  "language_info": {
   "codemirror_mode": {
    "name": "ipython",
    "version": 3
   },
   "file_extension": ".py",
   "mimetype": "text/x-python",
   "name": "python",
   "nbconvert_exporter": "python",
   "pygments_lexer": "ipython3",
   "version": "3.10.12"
  },
  "papermill": {
   "default_parameters": {},
   "duration": 3.543339,
   "end_time": "2023-10-05T22:21:27.042643",
   "environment_variables": {},
   "exception": null,
   "input_path": "__notebook__.ipynb",
   "output_path": "__notebook__.ipynb",
   "parameters": {},
   "start_time": "2023-10-05T22:21:23.499304",
   "version": "2.4.0"
  }
 },
 "nbformat": 4,
 "nbformat_minor": 5
}
